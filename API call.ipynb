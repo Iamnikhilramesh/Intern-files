{
 "cells": [
  {
   "cell_type": "markdown",
   "metadata": {},
   "source": [
    "# Klipkungen order data API call"
   ]
  },
  {
   "cell_type": "code",
   "execution_count": 19,
   "metadata": {},
   "outputs": [],
   "source": [
    "#required lib\n",
    "import requests"
   ]
  },
  {
   "cell_type": "code",
   "execution_count": 20,
   "metadata": {},
   "outputs": [],
   "source": [
    "#define headers\n",
    "headers = {\n",
    "    \"Accept\" : \"application/json\",\n",
    "    \"Content-Type\" : \"application/json\",\n",
    "}\n",
    "#call api\n",
    "r = requests.get('https://klippkungen.se/api/v1/shop/variants/search?prices=true&groups=true&sku[]=ASB9063',\n",
    "                 headers=headers)"
   ]
  },
  {
   "cell_type": "code",
   "execution_count": 24,
   "metadata": {},
   "outputs": [],
   "source": [
    "#read json data\n",
    "#r.json()\n",
    "#read text data \n",
    "#r.text"
   ]
  }
 ],
 "metadata": {
  "kernelspec": {
   "display_name": "Python 3",
   "language": "python",
   "name": "python3"
  },
  "language_info": {
   "codemirror_mode": {
    "name": "ipython",
    "version": 3
   },
   "file_extension": ".py",
   "mimetype": "text/x-python",
   "name": "python",
   "nbconvert_exporter": "python",
   "pygments_lexer": "ipython3",
   "version": "3.7.6"
  }
 },
 "nbformat": 4,
 "nbformat_minor": 4
}
