{
 "cells": [
  {
   "cell_type": "markdown",
   "metadata": {},
   "source": [
    "# What products sold the most? Why do you think it did?"
   ]
  },
  {
   "cell_type": "code",
   "execution_count": 2,
   "metadata": {},
   "outputs": [],
   "source": [
    "# import required lib\n",
    "import pandas as pd \n",
    "import numpy as np\n",
    "import matplotlib.pyplot as plt\n",
    "import seaborn as sns\n",
    "import calendar \n",
    "import plotly.express as px\n",
    "\n",
    "import warnings\n",
    "warnings.filterwarnings(\"ignore\")"
   ]
  },
  {
   "cell_type": "markdown",
   "metadata": {},
   "source": [
    "# Load data from all the sources"
   ]
  },
  {
   "cell_type": "code",
   "execution_count": 3,
   "metadata": {},
   "outputs": [],
   "source": [
    "#Read the data\n",
    "orders_all = pd.read_csv(\"perf_test_orderdata/orders_all.csv\")\n",
    "orders_times = pd.read_csv(\"perf_test_orderdata/orders_times.csv\")"
   ]
  },
  {
   "cell_type": "code",
   "execution_count": 4,
   "metadata": {},
   "outputs": [],
   "source": [
    "#join the column to connect the two csv data\n",
    "merge = pd.merge(orders_all,orders_times,how='left',on='admin_reference')"
   ]
  },
  {
   "cell_type": "markdown",
   "metadata": {},
   "source": [
    "# Prepare Data"
   ]
  },
  {
   "cell_type": "code",
   "execution_count": 5,
   "metadata": {},
   "outputs": [],
   "source": [
    "#drop the features which has most null values\n",
    "orders = merge.drop(['completed_at_x','customer_company','bill_state_name','ship_state_name','ship_company','subsite_store','campaign_code','bill_company'],axis=1)"
   ]
  },
  {
   "cell_type": "code",
   "execution_count": 6,
   "metadata": {},
   "outputs": [],
   "source": [
    "#for campaign \n",
    "campaign_code = merge.drop(['completed_at_x','customer_company','bill_state_name','ship_state_name','ship_company','subsite_store','bill_company'],axis=1)"
   ]
  },
  {
   "cell_type": "code",
   "execution_count": 7,
   "metadata": {},
   "outputs": [],
   "source": [
    "#prepasre the dat \n",
    "def prep_data(data):\n",
    "    #Date and time is splitted\n",
    "    new = data[\"completed_at_y\"].str.split(\" \", n = 1, expand = True) \n",
    "    data['Date'] = new[0]\n",
    "    data['Time'] = new[1]\n",
    "    #Day, month and year is splitted\n",
    "    new = data[\"Date\"].str.split(\"-\", n = 2, expand = True) \n",
    "    data['Year'] = new[0]\n",
    "    data['Month'] = new[1]\n",
    "    data['Day'] = new[2]\n",
    "    #drop null values\n",
    "    data = data.dropna()\n",
    "    #convert month number to month name\n",
    "    data['Month'] = data['Month'].astype(int).apply(lambda x: calendar.month_abbr[x])\n",
    "    #Date and time is splitted\n",
    "    new = data[\"Time\"].str.split(\":\", n = 1, expand = True) \n",
    "    data['Hour'] = new[0]\n",
    "    data['Minute'] = new[1]\n",
    "\n",
    "    data['Date'] = pd.to_datetime(data['Date'])  # Step 1\n",
    "    data['DayofWeek'] =data['Date'].dt.day_name()  # Step 2\n",
    "    return data"
   ]
  },
  {
   "cell_type": "code",
   "execution_count": 8,
   "metadata": {},
   "outputs": [],
   "source": [
    "orders = prep_data(orders)\n",
    "campaign_code = prep_data(campaign_code)"
   ]
  },
  {
   "cell_type": "code",
   "execution_count": 9,
   "metadata": {},
   "outputs": [],
   "source": [
    "orders = orders.drop([ 'state', 'shipment_state',\n",
    "       'currency', 'bill_zipcode',\n",
    "       'ship_city', 'ship_zipcode', 'ship_country_iso_name'],axis=1)"
   ]
  },
  {
   "cell_type": "code",
   "execution_count": 30,
   "metadata": {},
   "outputs": [],
   "source": [
    "orders['unit_price'] = orders['total']/orders['quantity']"
   ]
  },
  {
   "cell_type": "code",
   "execution_count": 78,
   "metadata": {},
   "outputs": [],
   "source": [
    "#most_sold_products\n",
    "most_sold_products = pd.DataFrame(orders.groupby(by = ['product_name'], as_index=False).sum().drop(['quantity','unit_price'],axis=1).sort_values(by = ['total']).tail(10))\n",
    "most_sold_products = list(most_sold_products.product_name)"
   ]
  },
  {
   "cell_type": "code",
   "execution_count": 85,
   "metadata": {},
   "outputs": [],
   "source": [
    "#create a new dataframe with products sold most\n",
    "df = orders[orders.product_name.isin(most_sold_products)].groupby(by = ['product_name'], as_index=False).sum().drop(['unit_price'],axis=1)"
   ]
  },
  {
   "cell_type": "code",
   "execution_count": 91,
   "metadata": {},
   "outputs": [
    {
     "data": {
      "text/html": [
       "<div>\n",
       "<style scoped>\n",
       "    .dataframe tbody tr th:only-of-type {\n",
       "        vertical-align: middle;\n",
       "    }\n",
       "\n",
       "    .dataframe tbody tr th {\n",
       "        vertical-align: top;\n",
       "    }\n",
       "\n",
       "    .dataframe thead th {\n",
       "        text-align: right;\n",
       "    }\n",
       "</style>\n",
       "<table border=\"1\" class=\"dataframe\">\n",
       "  <thead>\n",
       "    <tr style=\"text-align: right;\">\n",
       "      <th></th>\n",
       "      <th>product_name</th>\n",
       "      <th>total</th>\n",
       "      <th>quantity</th>\n",
       "    </tr>\n",
       "  </thead>\n",
       "  <tbody>\n",
       "    <tr>\n",
       "      <th>0</th>\n",
       "      <td>3 BRETT PEPSI MAX</td>\n",
       "      <td>1804054.81</td>\n",
       "      <td>5021</td>\n",
       "    </tr>\n",
       "    <tr>\n",
       "      <th>1</th>\n",
       "      <td>Coca-Cola 24 st - Max 1 per order</td>\n",
       "      <td>2500980.95</td>\n",
       "      <td>7425</td>\n",
       "    </tr>\n",
       "    <tr>\n",
       "      <th>2</th>\n",
       "      <td>Dubbelnougat - 42 st x 43 g</td>\n",
       "      <td>2019126.42</td>\n",
       "      <td>3797</td>\n",
       "    </tr>\n",
       "    <tr>\n",
       "      <th>3</th>\n",
       "      <td>Hemliga Ät snart-lådan</td>\n",
       "      <td>2767165.24</td>\n",
       "      <td>7550</td>\n",
       "    </tr>\n",
       "    <tr>\n",
       "      <th>4</th>\n",
       "      <td>Maltesers - 85g</td>\n",
       "      <td>1673072.88</td>\n",
       "      <td>11272</td>\n",
       "    </tr>\n",
       "    <tr>\n",
       "      <th>5</th>\n",
       "      <td>Norsk Pant 2-kr 24st</td>\n",
       "      <td>2023640.92</td>\n",
       "      <td>4020</td>\n",
       "    </tr>\n",
       "    <tr>\n",
       "      <th>6</th>\n",
       "      <td>Pepsi Max 3 brett - 384kr ink. frakt</td>\n",
       "      <td>13164414.00</td>\n",
       "      <td>37112</td>\n",
       "    </tr>\n",
       "    <tr>\n",
       "      <th>7</th>\n",
       "      <td>SVENSK PANT 1 KR 12-pack</td>\n",
       "      <td>3601443.12</td>\n",
       "      <td>5970</td>\n",
       "    </tr>\n",
       "    <tr>\n",
       "      <th>8</th>\n",
       "      <td>Svensk Pant 1 kr 24</td>\n",
       "      <td>14892620.06</td>\n",
       "      <td>29275</td>\n",
       "    </tr>\n",
       "    <tr>\n",
       "      <th>9</th>\n",
       "      <td>WEB-AFTER EIGHT 400G</td>\n",
       "      <td>1539547.86</td>\n",
       "      <td>5182</td>\n",
       "    </tr>\n",
       "  </tbody>\n",
       "</table>\n",
       "</div>"
      ],
      "text/plain": [
       "                           product_name        total  quantity\n",
       "0                     3 BRETT PEPSI MAX   1804054.81      5021\n",
       "1     Coca-Cola 24 st - Max 1 per order   2500980.95      7425\n",
       "2           Dubbelnougat - 42 st x 43 g   2019126.42      3797\n",
       "3                Hemliga Ät snart-lådan   2767165.24      7550\n",
       "4                       Maltesers - 85g   1673072.88     11272\n",
       "5                  Norsk Pant 2-kr 24st   2023640.92      4020\n",
       "6  Pepsi Max 3 brett - 384kr ink. frakt  13164414.00     37112\n",
       "7              SVENSK PANT 1 KR 12-pack   3601443.12      5970\n",
       "8                   Svensk Pant 1 kr 24  14892620.06     29275\n",
       "9                  WEB-AFTER EIGHT 400G   1539547.86      5182"
      ]
     },
     "execution_count": 91,
     "metadata": {},
     "output_type": "execute_result"
    }
   ],
   "source": [
    "df"
   ]
  },
  {
   "cell_type": "code",
   "execution_count": 88,
   "metadata": {},
   "outputs": [
    {
     "data": {
      "image/png": "[encoded data removed]",
      "text/plain": [
       "<Figure size 432x288 with 2 Axes>"
      ]
     },
     "metadata": {
      "needs_background": "light"
     },
     "output_type": "display_data"
    }
   ],
   "source": [
    "#plot sales vs orders vs most sold products\n",
    "fig,ax1 = plt.subplots()\n",
    "\n",
    "ax2 = ax1.twinx()\n",
    "ax1.bar(df.product_name,df.quantity,color='g')\n",
    "ax2.plot(df.product_name,df.total,'b-')\n",
    "\n",
    "ax1.set_xlabel(\"Product Name\")\n",
    "ax1.set_ylabel(\"Orders\", color = 'g')\n",
    "ax2.set_ylabel(\"Sales\",color ='b')\n",
    "ax1.set_xticklabels(products, rotation='vertical',size=9)\n",
    "plt.show()"
   ]
  },
  {
   "cell_type": "code",
   "execution_count": null,
   "metadata": {},
   "outputs": [],
   "source": []
  }
 ],
 "metadata": {
  "kernelspec": {
   "display_name": "Python 3",
   "language": "python",
   "name": "python3"
  },
  "language_info": {
   "codemirror_mode": {
    "name": "ipython",
    "version": 3
   },
   "file_extension": ".py",
   "mimetype": "text/x-python",
   "name": "python",
   "nbconvert_exporter": "python",
   "pygments_lexer": "ipython3",
   "version": "3.7.6"
  }
 },
 "nbformat": 4,
 "nbformat_minor": 4
}
