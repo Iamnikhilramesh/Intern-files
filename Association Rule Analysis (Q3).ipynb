{
 "cells": [
  {
   "cell_type": "markdown",
   "metadata": {},
   "source": [
    "# Apply association rule to find rules with the current dataset? For example, a customer who purchased peanut butter and jelly together has also purchased bread"
   ]
  },
  {
   "cell_type": "code",
   "execution_count": 1,
   "metadata": {},
   "outputs": [
    {
     "name": "stdout",
     "output_type": "stream",
     "text": [
      "Collecting apyori\n",
      "  Downloading apyori-1.1.2.tar.gz (8.6 kB)\n",
      "Building wheels for collected packages: apyori\n",
      "  Building wheel for apyori (setup.py) ... \u001b[?25ldone\n",
      "\u001b[?25h  Created wheel for apyori: filename=apyori-1.1.2-py3-none-any.whl size=5975 sha256=c5a02ce0f1d13c8a5b0e92c5d27f561bfb04177c2903bf2b38d66dec2dc1132c\n",
      "  Stored in directory: /Users/nikhilr/Library/Caches/pip/wheels/cb/f6/e1/57973c631d27efd1a2f375bd6a83b2a616c4021f24aab84080\n",
      "Successfully built apyori\n",
      "Installing collected packages: apyori\n",
      "Successfully installed apyori-1.1.2\n"
     ]
    }
   ],
   "source": [
    "!pip install apyori"
   ]
  },
  {
   "cell_type": "code",
   "execution_count": 2,
   "metadata": {},
   "outputs": [],
   "source": [
    "# import required lib\n",
    "import pandas as pd \n",
    "import numpy as np\n",
    "import matplotlib.pyplot as plt\n",
    "import seaborn as sns\n",
    "import calendar \n",
    "from apyori import apriori\n",
    "\n",
    "import warnings\n",
    "warnings.filterwarnings(\"ignore\")"
   ]
  },
  {
   "cell_type": "markdown",
   "metadata": {},
   "source": [
    "# Load data from all the sources"
   ]
  },
  {
   "cell_type": "code",
   "execution_count": 3,
   "metadata": {},
   "outputs": [],
   "source": [
    "#Read the data\n",
    "orders_all = pd.read_csv(\"perf_test_orderdata/orders_all.csv\")\n",
    "orders_times = pd.read_csv(\"perf_test_orderdata/orders_times.csv\")"
   ]
  },
  {
   "cell_type": "code",
   "execution_count": 4,
   "metadata": {},
   "outputs": [],
   "source": [
    "#join the column to connect the two csv data\n",
    "merge = pd.merge(orders_all,orders_times,how='left',on='admin_reference')"
   ]
  },
  {
   "cell_type": "code",
   "execution_count": 6,
   "metadata": {},
   "outputs": [],
   "source": [
    "#load product data collected from API\n",
    "# products = pd.read_csv(\"products.csv\")"
   ]
  },
  {
   "cell_type": "markdown",
   "metadata": {},
   "source": [
    "# Prepare Data"
   ]
  },
  {
   "cell_type": "code",
   "execution_count": 7,
   "metadata": {},
   "outputs": [],
   "source": [
    "#drop the features which has most null values\n",
    "orders = merge.drop(['completed_at_x','customer_company','bill_state_name','ship_state_name','ship_company','subsite_store','campaign_code','bill_company'],axis=1)"
   ]
  },
  {
   "cell_type": "code",
   "execution_count": 8,
   "metadata": {},
   "outputs": [],
   "source": [
    "#for campaign \n",
    "campaign_code = merge.drop(['completed_at_x','customer_company','bill_state_name','ship_state_name','ship_company','subsite_store','bill_company'],axis=1)"
   ]
  },
  {
   "cell_type": "code",
   "execution_count": 9,
   "metadata": {},
   "outputs": [],
   "source": [
    "#prepasre the dat \n",
    "def prep_data(data):\n",
    "    #Date and time is splitted\n",
    "    new = data[\"completed_at_y\"].str.split(\" \", n = 1, expand = True) \n",
    "    data['Date'] = new[0]\n",
    "    data['Time'] = new[1]\n",
    "    #Day, month and year is splitted\n",
    "    new = data[\"Date\"].str.split(\"-\", n = 2, expand = True) \n",
    "    data['Year'] = new[0]\n",
    "    data['Month'] = new[1]\n",
    "    data['Day'] = new[2]\n",
    "    #drop null values\n",
    "    data = data.dropna()\n",
    "    #convert month number to month name\n",
    "    data['Month'] = data['Month'].astype(int).apply(lambda x: calendar.month_abbr[x])\n",
    "    #Date and time is splitted\n",
    "    new = data[\"Time\"].str.split(\":\", n = 1, expand = True) \n",
    "    data['Hour'] = new[0]\n",
    "    data['Minute'] = new[1]\n",
    "\n",
    "    data['Date'] = pd.to_datetime(data['Date'])  # Step 1\n",
    "    data['DayofWeek'] =data['Date'].dt.day_name()  # Step 2\n",
    "    return data"
   ]
  },
  {
   "cell_type": "code",
   "execution_count": 10,
   "metadata": {},
   "outputs": [],
   "source": [
    "orders = prep_data(orders)\n",
    "campaign_code = prep_data(campaign_code)"
   ]
  },
  {
   "cell_type": "code",
   "execution_count": 11,
   "metadata": {},
   "outputs": [],
   "source": [
    "#update values in orders table\n",
    "# orders['group_name'] = None\n",
    "# orders.update(products)"
   ]
  },
  {
   "cell_type": "code",
   "execution_count": 12,
   "metadata": {},
   "outputs": [],
   "source": [
    "orders = orders.drop([ 'state', 'shipment_state',\n",
    "       'currency', 'bill_zipcode',\n",
    "       'ship_city', 'ship_zipcode', 'ship_country_iso_name'],axis=1)"
   ]
  },
  {
   "cell_type": "code",
   "execution_count": 13,
   "metadata": {},
   "outputs": [
    {
     "data": {
      "text/html": [
       "<div>\n",
       "<style scoped>\n",
       "    .dataframe tbody tr th:only-of-type {\n",
       "        vertical-align: middle;\n",
       "    }\n",
       "\n",
       "    .dataframe tbody tr th {\n",
       "        vertical-align: top;\n",
       "    }\n",
       "\n",
       "    .dataframe thead th {\n",
       "        text-align: right;\n",
       "    }\n",
       "</style>\n",
       "<table border=\"1\" class=\"dataframe\">\n",
       "  <thead>\n",
       "    <tr style=\"text-align: right;\">\n",
       "      <th></th>\n",
       "      <th>admin_reference</th>\n",
       "      <th>payment_state</th>\n",
       "      <th>total</th>\n",
       "      <th>bill_city</th>\n",
       "      <th>bill_country_iso_name</th>\n",
       "      <th>product_name</th>\n",
       "      <th>quantity</th>\n",
       "      <th>sku</th>\n",
       "      <th>completed_at_y</th>\n",
       "      <th>Date</th>\n",
       "      <th>Time</th>\n",
       "      <th>Year</th>\n",
       "      <th>Month</th>\n",
       "      <th>Day</th>\n",
       "      <th>Hour</th>\n",
       "      <th>Minute</th>\n",
       "      <th>DayofWeek</th>\n",
       "    </tr>\n",
       "  </thead>\n",
       "  <tbody>\n",
       "    <tr>\n",
       "      <th>1</th>\n",
       "      <td>O160651894</td>\n",
       "      <td>paid</td>\n",
       "      <td>97.21</td>\n",
       "      <td>Hafrsfjord</td>\n",
       "      <td>NO</td>\n",
       "      <td>AROMA Svartvinbärstoppar 900g</td>\n",
       "      <td>1</td>\n",
       "      <td>WEB7098</td>\n",
       "      <td>2018-05-31 09:08</td>\n",
       "      <td>2018-05-31</td>\n",
       "      <td>09:08</td>\n",
       "      <td>2018</td>\n",
       "      <td>May</td>\n",
       "      <td>31</td>\n",
       "      <td>09</td>\n",
       "      <td>08</td>\n",
       "      <td>Thursday</td>\n",
       "    </tr>\n",
       "    <tr>\n",
       "      <th>2</th>\n",
       "      <td>O160651894</td>\n",
       "      <td>paid</td>\n",
       "      <td>97.21</td>\n",
       "      <td>Hafrsfjord</td>\n",
       "      <td>NO</td>\n",
       "      <td>AROMA HALLON &amp; LAKRITSBÅTAR 900G 2:a sor</td>\n",
       "      <td>1</td>\n",
       "      <td>WEB7080</td>\n",
       "      <td>2018-05-31 09:08</td>\n",
       "      <td>2018-05-31</td>\n",
       "      <td>09:08</td>\n",
       "      <td>2018</td>\n",
       "      <td>May</td>\n",
       "      <td>31</td>\n",
       "      <td>09</td>\n",
       "      <td>08</td>\n",
       "      <td>Thursday</td>\n",
       "    </tr>\n",
       "  </tbody>\n",
       "</table>\n",
       "</div>"
      ],
      "text/plain": [
       "  admin_reference payment_state  total   bill_city bill_country_iso_name  \\\n",
       "1      O160651894          paid  97.21  Hafrsfjord                    NO   \n",
       "2      O160651894          paid  97.21  Hafrsfjord                    NO   \n",
       "\n",
       "                               product_name  quantity      sku  \\\n",
       "1             AROMA Svartvinbärstoppar 900g         1  WEB7098   \n",
       "2  AROMA HALLON & LAKRITSBÅTAR 900G 2:a sor         1  WEB7080   \n",
       "\n",
       "     completed_at_y       Date   Time  Year Month Day Hour Minute DayofWeek  \n",
       "1  2018-05-31 09:08 2018-05-31  09:08  2018   May  31   09     08  Thursday  \n",
       "2  2018-05-31 09:08 2018-05-31  09:08  2018   May  31   09     08  Thursday  "
      ]
     },
     "execution_count": 13,
     "metadata": {},
     "output_type": "execute_result"
    }
   ],
   "source": [
    "orders.head(2)"
   ]
  },
  {
   "cell_type": "code",
   "execution_count": 14,
   "metadata": {},
   "outputs": [],
   "source": [
    "# products = products.drop(['ID', 'product_id', 'ean', 'is_master', 'weight',\n",
    "#        'reference', 'source_owner', 'source_id', 'best_price', 'stock_available_qty', 'sku_api',\n",
    "#        'group_description', 'group_properties','current_price'],axis=1)"
   ]
  },
  {
   "cell_type": "code",
   "execution_count": 15,
   "metadata": {},
   "outputs": [
    {
     "ename": "NameError",
     "evalue": "name 'products' is not defined",
     "output_type": "error",
     "traceback": [
      "\u001b[0;31m---------------------------------------------------------------------------\u001b[0m",
      "\u001b[0;31mNameError\u001b[0m                                 Traceback (most recent call last)",
      "\u001b[0;32m<ipython-input-15-e2fab6f04da6>\u001b[0m in \u001b[0;36m<module>\u001b[0;34m\u001b[0m\n\u001b[0;32m----> 1\u001b[0;31m \u001b[0mproducts\u001b[0m\u001b[0;34m.\u001b[0m\u001b[0mhead\u001b[0m\u001b[0;34m(\u001b[0m\u001b[0;36m2\u001b[0m\u001b[0;34m)\u001b[0m\u001b[0;34m\u001b[0m\u001b[0;34m\u001b[0m\u001b[0m\n\u001b[0m",
      "\u001b[0;31mNameError\u001b[0m: name 'products' is not defined"
     ]
    }
   ],
   "source": [
    "products.head(2)"
   ]
  },
  {
   "cell_type": "code",
   "execution_count": null,
   "metadata": {},
   "outputs": [],
   "source": []
  }
 ],
 "metadata": {
  "kernelspec": {
   "display_name": "Python 3",
   "language": "python",
   "name": "python3"
  },
  "language_info": {
   "codemirror_mode": {
    "name": "ipython",
    "version": 3
   },
   "file_extension": ".py",
   "mimetype": "text/x-python",
   "name": "python",
   "nbconvert_exporter": "python",
   "pygments_lexer": "ipython3",
   "version": "3.7.6"
  }
 },
 "nbformat": 4,
 "nbformat_minor": 4
}
