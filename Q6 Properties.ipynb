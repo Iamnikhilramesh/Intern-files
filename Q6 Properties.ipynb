{
 "cells": [
  {
   "cell_type": "markdown",
   "metadata": {},
   "source": [
    "# Which properties has the more sales?"
   ]
  },
  {
   "cell_type": "code",
   "execution_count": 130,
   "metadata": {},
   "outputs": [],
   "source": [
    "# import required lib\n",
    "import pandas as pd \n",
    "import numpy as np\n",
    "import matplotlib.pyplot as plt\n",
    "import seaborn as sns\n",
    "import calendar \n",
    "import plotly.express as px\n",
    "import string\n",
    "import nltk\n",
    "#nltk.download('punkt')\n",
    "#nltk.download('stopwords')\n",
    "import warnings\n",
    "warnings.filterwarnings(\"ignore\")"
   ]
  },
  {
   "cell_type": "markdown",
   "metadata": {},
   "source": [
    "# Load data from all the sources"
   ]
  },
  {
   "cell_type": "code",
   "execution_count": 131,
   "metadata": {},
   "outputs": [],
   "source": [
    "#Read the data\n",
    "orders_all = pd.read_csv(\"perf_test_orderdata/orders_all.csv\")\n",
    "orders_times = pd.read_csv(\"perf_test_orderdata/orders_times.csv\")"
   ]
  },
  {
   "cell_type": "code",
   "execution_count": 132,
   "metadata": {},
   "outputs": [],
   "source": [
    "#join the column to connect the two csv data\n",
    "merge = pd.merge(orders_all,orders_times,how='left',on='admin_reference')"
   ]
  },
  {
   "cell_type": "code",
   "execution_count": 133,
   "metadata": {},
   "outputs": [],
   "source": [
    "#load product data collected from API\n",
    "properties = pd.read_csv(\"properties.csv\")"
   ]
  },
  {
   "cell_type": "markdown",
   "metadata": {},
   "source": [
    "# Prepare Data"
   ]
  },
  {
   "cell_type": "code",
   "execution_count": 134,
   "metadata": {},
   "outputs": [],
   "source": [
    "#drop the features which has most null values\n",
    "orders = merge.drop(['completed_at_x','customer_company','bill_state_name','ship_state_name','ship_company','subsite_store','campaign_code','bill_company'],axis=1)"
   ]
  },
  {
   "cell_type": "code",
   "execution_count": 135,
   "metadata": {},
   "outputs": [],
   "source": [
    "#for campaign \n",
    "campaign_code = merge.drop(['completed_at_x','customer_company','bill_state_name','ship_state_name','ship_company','subsite_store','bill_company'],axis=1)"
   ]
  },
  {
   "cell_type": "code",
   "execution_count": 136,
   "metadata": {},
   "outputs": [],
   "source": [
    "#prepasre the dat \n",
    "def prep_data(data):\n",
    "    #Date and time is splitted\n",
    "    new = data[\"completed_at_y\"].str.split(\" \", n = 1, expand = True) \n",
    "    data['Date'] = new[0]\n",
    "    data['Time'] = new[1]\n",
    "    #Day, month and year is splitted\n",
    "    new = data[\"Date\"].str.split(\"-\", n = 2, expand = True) \n",
    "    data['Year'] = new[0]\n",
    "    data['Month'] = new[1]\n",
    "    data['Day'] = new[2]\n",
    "    #drop null values\n",
    "    data = data.dropna()\n",
    "    #convert month number to month name\n",
    "    data['Month'] = data['Month'].astype(int).apply(lambda x: calendar.month_abbr[x])\n",
    "    #Date and time is splitted\n",
    "    new = data[\"Time\"].str.split(\":\", n = 1, expand = True) \n",
    "    data['Hour'] = new[0]\n",
    "    data['Minute'] = new[1]\n",
    "\n",
    "    data['Date'] = pd.to_datetime(data['Date'])  # Step 1\n",
    "    data['DayofWeek'] =data['Date'].dt.day_name()  # Step 2\n",
    "    return data"
   ]
  },
  {
   "cell_type": "code",
   "execution_count": 137,
   "metadata": {},
   "outputs": [],
   "source": [
    "orders = prep_data(orders)\n",
    "campaign_code = prep_data(campaign_code)"
   ]
  },
  {
   "cell_type": "code",
   "execution_count": 138,
   "metadata": {},
   "outputs": [],
   "source": [
    "#Drop duplicates.\n",
    "properties = properties.drop_duplicates(subset='p_name', keep=\"first\")\n",
    "properties.columns = ['product_name', 'properties']"
   ]
  },
  {
   "cell_type": "code",
   "execution_count": 139,
   "metadata": {},
   "outputs": [
    {
     "data": {
      "text/plain": [
       "0     {'ingredients': '<p>Vit choklad (70 %): (Socke...\n",
       "10    {'ingredients': '<b>ingredienser</b>: <b>kolsy...\n",
       "Name: properties, dtype: object"
      ]
     },
     "execution_count": 139,
     "metadata": {},
     "output_type": "execute_result"
    }
   ],
   "source": [
    "properties.properties.head(2)"
   ]
  },
  {
   "cell_type": "code",
   "execution_count": 140,
   "metadata": {},
   "outputs": [
    {
     "data": {
      "text/plain": [
       "0       {'ingredients': '<p>Vit choklad (70 %): (Socke...\n",
       "10      {'ingredients': '<b>ingredienser</b>: <b>kolsy...\n",
       "11      {'ingredients': 'Vatten, apelsinjuice från kon...\n",
       "12      {'ingredients': 'Glukos-fruktossirap, socker, ...\n",
       "13      {'ingredients': '<p>Socker, glukossirap, <stro...\n",
       "                              ...                        \n",
       "2782    {'name': 'Godispåse Halloween 5-pack', 'search...\n",
       "2783    {'name': 'Gott och Blandat Original - 2 kg', '...\n",
       "2793    {'search': '', 'ingredients': '<p><span><span>...\n",
       "2794    {'ingredients': '<p><strong>Ingredienser:</str...\n",
       "2795    {'ingredients': '<b>ingredienser/ainekset/ingr...\n",
       "Name: properties, Length: 1723, dtype: object"
      ]
     },
     "execution_count": 140,
     "metadata": {},
     "output_type": "execute_result"
    }
   ],
   "source": [
    "properties['properties']"
   ]
  },
  {
   "cell_type": "code",
   "execution_count": 141,
   "metadata": {},
   "outputs": [],
   "source": [
    "#Left strip and remove the side headings.\n",
    "# properties['properties'] = properties['properties'].map(lambda x: x.lstrip('{\\'ingredients\\':'))\n",
    "# properties['properties'] = properties['properties'].map(lambda x: x.lstrip('{\\'name\\':'))\n",
    "# properties['properties'] = properties['properties'].map(lambda x: x.lstrip('{\\'search\\':'))\n",
    "# clean punchuation\n",
    "properties['properties'] = properties['properties'].map(lambda x: \"\".join([i.lower() for i in x if i not in string.punctuation]))"
   ]
  },
  {
   "cell_type": "code",
   "execution_count": 142,
   "metadata": {},
   "outputs": [
    {
     "data": {
      "text/plain": [
       "0       ingredients pvit choklad 70  socker kakaosmör ...\n",
       "10      ingredients bingredienserb bkolsyrat vattenb b...\n",
       "11      ingredients vatten apelsinjuice från koncentra...\n",
       "12      ingredients glukosfruktossirap socker fullhärd...\n",
       "13      ingredients psocker glukossirap strongvetemjöl...\n",
       "                              ...                        \n",
       "2782    name godispåse halloween 5pack search  descrip...\n",
       "2783    name gott och blandat original  2 kg search pg...\n",
       "2793    search  ingredients pspanspanspanglukossirap s...\n",
       "2794    ingredients pstrongingredienserstrongnbspsocke...\n",
       "2795    ingredients bingredienseraineksetingredientsb ...\n",
       "Name: properties, Length: 1723, dtype: object"
      ]
     },
     "execution_count": 142,
     "metadata": {},
     "output_type": "execute_result"
    }
   ],
   "source": [
    "properties['properties']"
   ]
  },
  {
   "cell_type": "code",
   "execution_count": 143,
   "metadata": {},
   "outputs": [],
   "source": [
    "#Tokenize\n",
    "properties['properties'] = properties['properties'].map(lambda x: nltk.tokenize.word_tokenize(x))"
   ]
  },
  {
   "cell_type": "code",
   "execution_count": 144,
   "metadata": {},
   "outputs": [
    {
     "data": {
      "text/plain": [
       "0       [ingredients, pvit, choklad, 70, socker, kakao...\n",
       "10      [ingredients, bingredienserb, bkolsyrat, vatte...\n",
       "11      [ingredients, vatten, apelsinjuice, från, konc...\n",
       "12      [ingredients, glukosfruktossirap, socker, full...\n",
       "13      [ingredients, psocker, glukossirap, strongvete...\n",
       "                              ...                        \n",
       "2782    [name, godispåse, halloween, 5pack, search, de...\n",
       "2783    [name, gott, och, blandat, original, 2, kg, se...\n",
       "2793    [search, ingredients, pspanspanspanglukossirap...\n",
       "2794    [ingredients, pstrongingredienserstrongnbspsoc...\n",
       "2795    [ingredients, bingredienseraineksetingredients...\n",
       "Name: properties, Length: 1723, dtype: object"
      ]
     },
     "execution_count": 144,
     "metadata": {},
     "output_type": "execute_result"
    }
   ],
   "source": [
    "properties['properties']"
   ]
  },
  {
   "cell_type": "code",
   "execution_count": 145,
   "metadata": {},
   "outputs": [],
   "source": [
    "#remove stop words\n",
    "stopwords = nltk.corpus.stopwords.words('swedish')\n",
    "properties['properties'] = properties['properties'].map(lambda x: [i for i in x if i not in stopwords])\n",
    "stopwords = nltk.corpus.stopwords.words('english')\n",
    "properties['properties'] = properties['properties'].map(lambda x: [i for i in x if i not in stopwords])"
   ]
  },
  {
   "cell_type": "code",
   "execution_count": 146,
   "metadata": {},
   "outputs": [
    {
     "data": {
      "text/plain": [
       "0       [ingredients, pvit, choklad, 70, socker, kakao...\n",
       "10      [ingredients, bingredienserb, bkolsyrat, vatte...\n",
       "11      [ingredients, vatten, apelsinjuice, koncentrat...\n",
       "12      [ingredients, glukosfruktossirap, socker, full...\n",
       "13      [ingredients, psocker, glukossirap, strongvete...\n",
       "                              ...                        \n",
       "2782    [name, godispåse, halloween, 5pack, search, de...\n",
       "2783    [name, gott, blandat, original, 2, kg, search,...\n",
       "2793    [search, ingredients, pspanspanspanglukossirap...\n",
       "2794    [ingredients, pstrongingredienserstrongnbspsoc...\n",
       "2795    [ingredients, bingredienseraineksetingredients...\n",
       "Name: properties, Length: 1723, dtype: object"
      ]
     },
     "execution_count": 146,
     "metadata": {},
     "output_type": "execute_result"
    }
   ],
   "source": [
    "properties['properties']"
   ]
  },
  {
   "cell_type": "code",
   "execution_count": 147,
   "metadata": {},
   "outputs": [],
   "source": [
    "#removed numbers\n",
    "properties['properties'] = properties['properties'].map(lambda s:[x for x in s if not (x.isdigit() or x[0] == '-' and x[1:].isdigit())])"
   ]
  },
  {
   "cell_type": "code",
   "execution_count": 148,
   "metadata": {},
   "outputs": [
    {
     "data": {
      "text/plain": [
       "0       [ingredients, pvit, choklad, socker, kakaosmör...\n",
       "10      [ingredients, bingredienserb, bkolsyrat, vatte...\n",
       "11      [ingredients, vatten, apelsinjuice, koncentrat...\n",
       "12      [ingredients, glukosfruktossirap, socker, full...\n",
       "13      [ingredients, psocker, glukossirap, strongvete...\n",
       "                              ...                        \n",
       "2782    [name, godispåse, halloween, 5pack, search, de...\n",
       "2783    [name, gott, blandat, original, kg, search, pg...\n",
       "2793    [search, ingredients, pspanspanspanglukossirap...\n",
       "2794    [ingredients, pstrongingredienserstrongnbspsoc...\n",
       "2795    [ingredients, bingredienseraineksetingredients...\n",
       "Name: properties, Length: 1723, dtype: object"
      ]
     },
     "execution_count": 148,
     "metadata": {},
     "output_type": "execute_result"
    }
   ],
   "source": [
    "properties['properties']"
   ]
  },
  {
   "cell_type": "code",
   "execution_count": 149,
   "metadata": {},
   "outputs": [],
   "source": [
    "#remove some specific stop words\n",
    "stopwords = ['ingredients', 'name','search','kg','5pack','pstrongingredienserstrongnbspsocker','bingredienseraineksetingredientsb']\n",
    "properties['properties'] = properties['properties'].map(lambda s: [word for word in s if word not in stopwords])"
   ]
  },
  {
   "cell_type": "code",
   "execution_count": 150,
   "metadata": {},
   "outputs": [
    {
     "data": {
      "text/plain": [
       "0       [pvit, choklad, socker, kakaosmör, bhelmjölksp...\n",
       "10      [bingredienserb, bkolsyrat, vattenb, bsukrosb,...\n",
       "11      [vatten, apelsinjuice, koncentrat, socker, syr...\n",
       "12      [glukosfruktossirap, socker, fullhärdad, kokos...\n",
       "13      [psocker, glukossirap, strongvetemjölstrong, p...\n",
       "                              ...                        \n",
       "2782    [godispåse, halloween, description, h3godispås...\n",
       "2783    [gott, blandat, original, pgott, å, blandat, g...\n",
       "2793    [pspanspanspanglukossirap, socker, gelatin, fu...\n",
       "2794                                       [äppelsyraprn]\n",
       "2795    [glukossirapglukoosisiirappiglucose, syrup, so...\n",
       "Name: properties, Length: 1723, dtype: object"
      ]
     },
     "execution_count": 150,
     "metadata": {},
     "output_type": "execute_result"
    }
   ],
   "source": [
    "properties['properties']"
   ]
  },
  {
   "cell_type": "markdown",
   "metadata": {},
   "source": [
    "## Uniques values check and add to stopwords.\n",
    "find a way to strip inside specific value like 'strong'"
   ]
  },
  {
   "cell_type": "code",
   "execution_count": null,
   "metadata": {},
   "outputs": [],
   "source": []
  },
  {
   "cell_type": "code",
   "execution_count": null,
   "metadata": {},
   "outputs": [],
   "source": [
    "# Merge orders and product properties\n",
    "orders['properties'] = ''\n",
    "orders = pd.merge(orders,properties,on='product_name',how='left')\n",
    "#assign the required data\n",
    "data = orders.drop([ 'state', 'payment_state', 'shipment_state',\n",
    "       'currency', 'bill_city', 'bill_zipcode', 'bill_country_iso_name',\n",
    "       'ship_city', 'ship_zipcode', 'ship_country_iso_name',\n",
    "       'quantity', 'sku', 'completed_at_y', 'Date', 'Time', 'Year', 'Month',\n",
    "       'Day', 'Hour', 'Minute', 'DayofWeek', 'properties_x'],axis=1)\n",
    "#drop null values\n",
    "data = data.dropna()"
   ]
  },
  {
   "cell_type": "code",
   "execution_count": null,
   "metadata": {},
   "outputs": [],
   "source": [
    "data.groupby(by=['product_name','properties_y']).sum()"
   ]
  }
 ],
 "metadata": {
  "kernelspec": {
   "display_name": "Python 3",
   "language": "python",
   "name": "python3"
  },
  "language_info": {
   "codemirror_mode": {
    "name": "ipython",
    "version": 3
   },
   "file_extension": ".py",
   "mimetype": "text/x-python",
   "name": "python",
   "nbconvert_exporter": "python",
   "pygments_lexer": "ipython3",
   "version": "3.8.8"
  }
 },
 "nbformat": 4,
 "nbformat_minor": 4
}
